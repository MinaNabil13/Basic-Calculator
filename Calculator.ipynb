{
 "cells": [
  {
   "cell_type": "markdown",
   "id": "346fe447",
   "metadata": {},
   "source": [
    "### Basic Calculator Task\n"
   ]
  },
  {
   "cell_type": "code",
   "execution_count": 16,
   "id": "5995f1b0",
   "metadata": {},
   "outputs": [],
   "source": [
    "def calculator(first, second, operator):\n",
    "\n",
    "    if operator == 1:\n",
    "        return first + second\n",
    "    elif operator == 2:\n",
    "        return first - second\n",
    "    elif operator == 3:\n",
    "        return first * second\n",
    "    elif operator == 4:\n",
    "        if second != 0:\n",
    "            return first / second\n",
    "        else : \n",
    "            print(\"Not Devide by Zero\")\n",
    "       \n",
    "   \n",
    "\n",
    "   \n",
    "\n"
   ]
  },
  {
   "cell_type": "code",
   "execution_count": 25,
   "id": "794befc2",
   "metadata": {},
   "outputs": [
    {
     "name": "stdout",
     "output_type": "stream",
     "text": [
      "Welcome to simple Calculator \n",
      "Select an operation:\n",
      "1- Addition\n",
      "2- Subtraction\n",
      "3- Multiplication\n",
      "4- Division\n",
      "11\n",
      "Please Enter your choice (1/2/3/4) (or type 'exit' to quit):\n",
      "24\n",
      "Please Enter your choice (1/2/3/4) (or type 'exit' to quit):\n",
      "3.0\n",
      "Please Enter your choice (1/2/3/4) (or type 'exit' to quit):\n",
      "9\n",
      "Please Enter your choice (1/2/3/4) (or type 'exit' to quit):\n",
      "Exiting the calculator ... Goodbye!\n"
     ]
    }
   ],
   "source": [
    "print (\"Welcome to simple Calculator \")\n",
    "print(\"Select an operation:\\n1- Addition\\n2- Subtraction\\n3- Multiplication\\n4- Division\")\n",
    "\n",
    "while True:\n",
    "  z = input(\"Please Enter your choice (1/2/3/4) (or type 'exit' to quit):\")\n",
    "\n",
    "  if z.lower() == \"exit\":\n",
    "      print(\"Exiting the calculator ... Goodbye!\")\n",
    "      break\n",
    "  \n",
    "  if z == '1' or z == '2' or z == '3' or z == '4':\n",
    "        x = input(\"Please enter first number\")\n",
    "        y = input(\"Please enter second number\")\n",
    "        try:\n",
    "          number1 = int(x)\n",
    "          number2 = int(y)\n",
    "          number3 = int(z)\n",
    "          value = calculator(number1,number2,number3)\n",
    "          print(value)\n",
    "          print(\"Please Enter your choice (1/2/3/4) (or type 'exit' to quit):\")\n",
    "          continue\n",
    "        \n",
    "        except ValueError:\n",
    "          print(\"You entered a string or non-integer.\")\n",
    "          continue\n",
    "  else:\n",
    "       print(\"Enter a valid choice\")\n",
    "       continue\n",
    "          "
   ]
  },
  {
   "cell_type": "code",
   "execution_count": null,
   "id": "3f95ceeb",
   "metadata": {},
   "outputs": [],
   "source": []
  }
 ],
 "metadata": {
  "kernelspec": {
   "display_name": "Python 3",
   "language": "python",
   "name": "python3"
  },
  "language_info": {
   "codemirror_mode": {
    "name": "ipython",
    "version": 3
   },
   "file_extension": ".py",
   "mimetype": "text/x-python",
   "name": "python",
   "nbconvert_exporter": "python",
   "pygments_lexer": "ipython3",
   "version": "3.13.3"
  }
 },
 "nbformat": 4,
 "nbformat_minor": 5
}
