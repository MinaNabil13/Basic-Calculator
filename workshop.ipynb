{
 "cells": [
  {
   "cell_type": "markdown",
   "id": "01ccfce4",
   "metadata": {},
   "source": [
    "# Task 1\n",
    "\n",
    "#### * Calculate Factorial using recursion"
   ]
  },
  {
   "cell_type": "code",
   "execution_count": 1,
   "id": "22128571",
   "metadata": {},
   "outputs": [],
   "source": [
    "def factorial(num):\n",
    "    if num == 0:\n",
    "        return 0\n",
    "    if num == 1:\n",
    "        return 1\n",
    "    return num * factorial(num - 1)"
   ]
  },
  {
   "cell_type": "code",
   "execution_count": 2,
   "id": "b2f2db72",
   "metadata": {},
   "outputs": [
    {
     "data": {
      "text/plain": [
       "40320"
      ]
     },
     "execution_count": 2,
     "metadata": {},
     "output_type": "execute_result"
    }
   ],
   "source": [
    "factorial(8)"
   ]
  },
  {
   "cell_type": "code",
   "execution_count": null,
   "id": "26b2a98f",
   "metadata": {},
   "outputs": [],
   "source": [
    "def factorial(num):\n",
    "    if num == 0:\n",
    "        return 0\n",
    "    \n",
    "    for i in range(1, num+1):\n",
    "        # i = num\n",
    "         result = num * i\n",
    "        # num -= 1\n",
    "         return result"
   ]
  },
  {
   "cell_type": "code",
   "execution_count": 39,
   "id": "158077ba",
   "metadata": {},
   "outputs": [
    {
     "data": {
      "text/plain": [
       "5"
      ]
     },
     "execution_count": 39,
     "metadata": {},
     "output_type": "execute_result"
    }
   ],
   "source": [
    "factorial(5)"
   ]
  },
  {
   "cell_type": "code",
   "execution_count": 20,
   "id": "98699d1e",
   "metadata": {},
   "outputs": [],
   "source": [
    "def isprime(num):\n",
    "    for i in range(2,num):\n",
    "        if num % i == 0:\n",
    "            return False\n",
    "    return True"
   ]
  },
  {
   "cell_type": "code",
   "execution_count": 21,
   "id": "a4f1b4c0",
   "metadata": {},
   "outputs": [
    {
     "data": {
      "text/plain": [
       "True"
      ]
     },
     "execution_count": 21,
     "metadata": {},
     "output_type": "execute_result"
    }
   ],
   "source": [
    "isprime(23)"
   ]
  },
  {
   "cell_type": "code",
   "execution_count": 22,
   "id": "4abe6452",
   "metadata": {},
   "outputs": [],
   "source": [
    "def dividors(num1: int, num2: int):\n",
    "    minimum_num = min(num1, num2)\n",
    "    commen_dividors = []\n",
    "    for i in range(1, minimum_num+1):\n",
    "        if num1 % i == 0 and num2 % i == 0:\n",
    "            commen_dividors.append(i)\n",
    "    return commen_dividors"
   ]
  },
  {
   "cell_type": "code",
   "execution_count": 23,
   "id": "b01a65cf",
   "metadata": {},
   "outputs": [
    {
     "data": {
      "text/plain": [
       "[1, 2, 4, 5, 10, 20]"
      ]
     },
     "execution_count": 23,
     "metadata": {},
     "output_type": "execute_result"
    }
   ],
   "source": [
    "dividors(60,100)"
   ]
  },
  {
   "cell_type": "code",
   "execution_count": 50,
   "id": "3dbfd626",
   "metadata": {},
   "outputs": [
    {
     "data": {
      "text/plain": [
       "([0, 2, 4, 6, 8], [1, 3, 5, 7, 9])"
      ]
     },
     "execution_count": 50,
     "metadata": {},
     "output_type": "execute_result"
    }
   ],
   "source": [
    "even_num = []\n",
    "odd_num = []\n",
    "def even_fun(num):\n",
    "    for i in range(num):\n",
    "      if i % 2 == 0:\n",
    "            even_num.append(i)\n",
    "      elif i % 2 != 0:\n",
    "            odd_num.append(i)\n",
    "            \n",
    "    return even_num, odd_num\n",
    "    \n",
    "\n",
    "even_fun(10)\n"
   ]
  },
  {
   "cell_type": "code",
   "execution_count": 53,
   "id": "cddaecef",
   "metadata": {},
   "outputs": [
    {
     "name": "stdout",
     "output_type": "stream",
     "text": [
      "H\n",
      "He\n",
      "Hel\n",
      "Hell\n",
      "Hello\n",
      "Hello \n",
      "Hello f\n",
      "Hello fr\n",
      "Hello fro\n",
      "Hello from\n",
      "Hello from \n",
      "Hello from t\n",
      "Hello from th\n",
      "Hello from the\n",
      "Hello from the \n",
      "Hello from the o\n",
      "Hello from the ot\n",
      "Hello from the oth\n",
      "Hello from the othe\n",
      "Hello from the other\n",
      "Hello from the other \n",
      "Hello from the other s\n",
      "Hello from the other si\n",
      "Hello from the other sid\n",
      "Hello from the other side\n",
      "e\n",
      "el\n",
      "ell\n",
      "ello\n",
      "ello \n",
      "ello f\n",
      "ello fr\n",
      "ello fro\n",
      "ello from\n",
      "ello from \n",
      "ello from t\n",
      "ello from th\n",
      "ello from the\n",
      "ello from the \n",
      "ello from the o\n",
      "ello from the ot\n",
      "ello from the oth\n",
      "ello from the othe\n",
      "ello from the other\n",
      "ello from the other \n",
      "ello from the other s\n",
      "ello from the other si\n",
      "ello from the other sid\n",
      "ello from the other side\n",
      "l\n",
      "ll\n",
      "llo\n",
      "llo \n",
      "llo f\n",
      "llo fr\n",
      "llo fro\n",
      "llo from\n",
      "llo from \n",
      "llo from t\n",
      "llo from th\n",
      "llo from the\n",
      "llo from the \n",
      "llo from the o\n",
      "llo from the ot\n",
      "llo from the oth\n",
      "llo from the othe\n",
      "llo from the other\n",
      "llo from the other \n",
      "llo from the other s\n",
      "llo from the other si\n",
      "llo from the other sid\n",
      "llo from the other side\n",
      "l\n",
      "lo\n",
      "lo \n",
      "lo f\n",
      "lo fr\n",
      "lo fro\n",
      "lo from\n",
      "lo from \n",
      "lo from t\n",
      "lo from th\n",
      "lo from the\n",
      "lo from the \n",
      "lo from the o\n",
      "lo from the ot\n",
      "lo from the oth\n",
      "lo from the othe\n",
      "lo from the other\n",
      "lo from the other \n",
      "lo from the other s\n",
      "lo from the other si\n",
      "lo from the other sid\n",
      "lo from the other side\n",
      "o\n",
      "o \n",
      "o f\n",
      "o fr\n",
      "o fro\n",
      "o from\n",
      "o from \n",
      "o from t\n",
      "o from th\n",
      "o from the\n",
      "o from the \n",
      "o from the o\n",
      "o from the ot\n",
      "o from the oth\n",
      "o from the othe\n",
      "o from the other\n",
      "o from the other \n",
      "o from the other s\n",
      "o from the other si\n",
      "o from the other sid\n",
      "o from the other side\n",
      " \n",
      " f\n",
      " fr\n",
      " fro\n",
      " from\n",
      " from \n",
      " from t\n",
      " from th\n",
      " from the\n",
      " from the \n",
      " from the o\n",
      " from the ot\n",
      " from the oth\n",
      " from the othe\n",
      " from the other\n",
      " from the other \n",
      " from the other s\n",
      " from the other si\n",
      " from the other sid\n",
      " from the other side\n",
      "f\n",
      "fr\n",
      "fro\n",
      "from\n",
      "from \n",
      "from t\n",
      "from th\n",
      "from the\n",
      "from the \n",
      "from the o\n",
      "from the ot\n",
      "from the oth\n",
      "from the othe\n",
      "from the other\n",
      "from the other \n",
      "from the other s\n",
      "from the other si\n",
      "from the other sid\n",
      "from the other side\n",
      "r\n",
      "ro\n",
      "rom\n",
      "rom \n",
      "rom t\n",
      "rom th\n",
      "rom the\n",
      "rom the \n",
      "rom the o\n",
      "rom the ot\n",
      "rom the oth\n",
      "rom the othe\n",
      "rom the other\n",
      "rom the other \n",
      "rom the other s\n",
      "rom the other si\n",
      "rom the other sid\n",
      "rom the other side\n",
      "o\n",
      "om\n",
      "om \n",
      "om t\n",
      "om th\n",
      "om the\n",
      "om the \n",
      "om the o\n",
      "om the ot\n",
      "om the oth\n",
      "om the othe\n",
      "om the other\n",
      "om the other \n",
      "om the other s\n",
      "om the other si\n",
      "om the other sid\n",
      "om the other side\n",
      "m\n",
      "m \n",
      "m t\n",
      "m th\n",
      "m the\n",
      "m the \n",
      "m the o\n",
      "m the ot\n",
      "m the oth\n",
      "m the othe\n",
      "m the other\n",
      "m the other \n",
      "m the other s\n",
      "m the other si\n",
      "m the other sid\n",
      "m the other side\n",
      " \n",
      " t\n",
      " th\n",
      " the\n",
      " the \n",
      " the o\n",
      " the ot\n",
      " the oth\n",
      " the othe\n",
      " the other\n",
      " the other \n",
      " the other s\n",
      " the other si\n",
      " the other sid\n",
      " the other side\n",
      "t\n",
      "th\n",
      "the\n",
      "the \n",
      "the o\n",
      "the ot\n",
      "the oth\n",
      "the othe\n",
      "the other\n",
      "the other \n",
      "the other s\n",
      "the other si\n",
      "the other sid\n",
      "the other side\n",
      "h\n",
      "he\n",
      "he \n",
      "he o\n",
      "he ot\n",
      "he oth\n",
      "he othe\n",
      "he other\n",
      "he other \n",
      "he other s\n",
      "he other si\n",
      "he other sid\n",
      "he other side\n",
      "e\n",
      "e \n",
      "e o\n",
      "e ot\n",
      "e oth\n",
      "e othe\n",
      "e other\n",
      "e other \n",
      "e other s\n",
      "e other si\n",
      "e other sid\n",
      "e other side\n",
      " \n",
      " o\n",
      " ot\n",
      " oth\n",
      " othe\n",
      " other\n",
      " other \n",
      " other s\n",
      " other si\n",
      " other sid\n",
      " other side\n",
      "o\n",
      "ot\n",
      "oth\n",
      "othe\n",
      "other\n",
      "other \n",
      "other s\n",
      "other si\n",
      "other sid\n",
      "other side\n",
      "t\n",
      "th\n",
      "the\n",
      "ther\n",
      "ther \n",
      "ther s\n",
      "ther si\n",
      "ther sid\n",
      "ther side\n",
      "h\n",
      "he\n",
      "her\n",
      "her \n",
      "her s\n",
      "her si\n",
      "her sid\n",
      "her side\n",
      "e\n",
      "er\n",
      "er \n",
      "er s\n",
      "er si\n",
      "er sid\n",
      "er side\n",
      "r\n",
      "r \n",
      "r s\n",
      "r si\n",
      "r sid\n",
      "r side\n",
      " \n",
      " s\n",
      " si\n",
      " sid\n",
      " side\n",
      "s\n",
      "si\n",
      "sid\n",
      "side\n",
      "i\n",
      "id\n",
      "ide\n",
      "d\n",
      "de\n",
      "e\n"
     ]
    },
    {
     "data": {
      "text/plain": [
       "' the other side'"
      ]
     },
     "execution_count": 53,
     "metadata": {},
     "output_type": "execute_result"
    }
   ],
   "source": [
    "str1 = input()\n",
    "str2 = input()\n",
    "\n",
    "longes_str = \"\"\n",
    "type(longes_str)\n",
    "for i in range(len(str1)):\n",
    "    # print(i)\n",
    "    for j in range(i, len(str1)):\n",
    "        #print(j)\n",
    "        sub_str = str1[i:j+1]\n",
    "        print(sub_str)\n",
    "        if sub_str in str2:\n",
    "            if len(sub_str) > len(longes_str):\n",
    "\n",
    "                longes_str = sub_str\n",
    "\n",
    "longes_str"
   ]
  },
  {
   "cell_type": "code",
   "execution_count": 54,
   "id": "7eb61960",
   "metadata": {},
   "outputs": [
    {
     "name": "stdout",
     "output_type": "stream",
     "text": [
      "H\n",
      "He\n",
      "Hel\n",
      "Hell\n",
      "Hello\n",
      "Hello \n",
      "Hello f\n",
      "Hello fr\n",
      "Hello fro\n",
      "Hello from\n",
      "Hello from \n",
      "Hello from e\n",
      "Hello from eg\n",
      "Hello from egy\n",
      "Hello from egyp\n",
      "Hello from egypt\n",
      "e\n",
      "el\n",
      "ell\n",
      "ello\n",
      "ello \n",
      "ello f\n",
      "ello fr\n",
      "ello fro\n",
      "ello from\n",
      "ello from \n",
      "ello from e\n",
      "ello from eg\n",
      "ello from egy\n",
      "ello from egyp\n",
      "ello from egypt\n",
      "l\n",
      "ll\n",
      "llo\n",
      "llo \n",
      "llo f\n",
      "llo fr\n",
      "llo fro\n",
      "llo from\n",
      "llo from \n",
      "llo from e\n",
      "llo from eg\n",
      "llo from egy\n",
      "llo from egyp\n",
      "llo from egypt\n",
      "l\n",
      "lo\n",
      "lo \n",
      "lo f\n",
      "lo fr\n",
      "lo fro\n",
      "lo from\n",
      "lo from \n",
      "lo from e\n",
      "lo from eg\n",
      "lo from egy\n",
      "lo from egyp\n",
      "lo from egypt\n",
      "o\n",
      "o \n",
      "o f\n",
      "o fr\n",
      "o fro\n",
      "o from\n",
      "o from \n",
      "o from e\n",
      "o from eg\n",
      "o from egy\n",
      "o from egyp\n",
      "o from egypt\n",
      " \n",
      " f\n",
      " fr\n",
      " fro\n",
      " from\n",
      " from \n",
      " from e\n",
      " from eg\n",
      " from egy\n",
      " from egyp\n",
      " from egypt\n",
      "f\n",
      "fr\n",
      "fro\n",
      "from\n",
      "from \n",
      "from e\n",
      "from eg\n",
      "from egy\n",
      "from egyp\n",
      "from egypt\n",
      "r\n",
      "ro\n",
      "rom\n",
      "rom \n",
      "rom e\n",
      "rom eg\n",
      "rom egy\n",
      "rom egyp\n",
      "rom egypt\n",
      "o\n",
      "om\n",
      "om \n",
      "om e\n",
      "om eg\n",
      "om egy\n",
      "om egyp\n",
      "om egypt\n",
      "m\n",
      "m \n",
      "m e\n",
      "m eg\n",
      "m egy\n",
      "m egyp\n",
      "m egypt\n",
      " \n",
      " e\n",
      " eg\n",
      " egy\n",
      " egyp\n",
      " egypt\n",
      "e\n",
      "eg\n",
      "egy\n",
      "egyp\n",
      "egypt\n",
      "g\n",
      "gy\n",
      "gyp\n",
      "gypt\n",
      "y\n",
      "yp\n",
      "ypt\n",
      "p\n",
      "pt\n",
      "t\n"
     ]
    },
    {
     "data": {
      "text/plain": [
       "'Hello from '"
      ]
     },
     "execution_count": 54,
     "metadata": {},
     "output_type": "execute_result"
    }
   ],
   "source": [
    "str1 = input()\n",
    "str2 = input()\n",
    "\n",
    "def compare_string(str1, str2):\n",
    "   longes_str = \"\"\n",
    "   type(longes_str)\n",
    "   for i in range(len(str1)):\n",
    "    # print(i)\n",
    "    for j in range(i, len(str1)):\n",
    "        #print(j)\n",
    "        sub_str = str1[i:j+1]\n",
    "        print(sub_str)\n",
    "        if sub_str in str2:\n",
    "            if len(sub_str) > len(longes_str):\n",
    "\n",
    "                longes_str = sub_str\n",
    "   return longes_str\n",
    "\n",
    "compare_string(str1, str2)"
   ]
  },
  {
   "cell_type": "code",
   "execution_count": null,
   "id": "327e964b",
   "metadata": {},
   "outputs": [
    {
     "name": "stdout",
     "output_type": "stream",
     "text": [
      "['hello', 'world']\n",
      "['world', 'hello']\n",
      "world \n",
      "world hello \n",
      "world hello \n"
     ]
    },
    {
     "data": {
      "text/plain": [
       "['world', 'hello']"
      ]
     },
     "execution_count": 63,
     "metadata": {},
     "output_type": "execute_result"
    }
   ],
   "source": [
    "def fun(s):\n",
    "    lst = s.split(\" \")\n",
    "    print(lst)\n",
    "    new_lst = lst [::-1]\n",
    "    print(new_lst)\n",
    "    new_str = \"\"\n",
    "    for i in new_lst:\n",
    "        new_str += i + \" \"\n",
    "        print(new_str)\n",
    "    new_str = new_str[:-1]\n",
    "    print(new_str)\n",
    "    return new_lst\n",
    "    \n",
    "fun('hello world')"
   ]
  },
  {
   "cell_type": "code",
   "execution_count": 59,
   "id": "2e27e5f7",
   "metadata": {},
   "outputs": [],
   "source": [
    "def fun(s):\n",
    "    lst = s.split(\" \")\n",
    "    print(lst)\n",
    "    new_lst = lst [::-1]\n",
    "    print(new_lst)\n",
    "    new_str = \"\"\n",
    "    new_str = \"*\".join(new_lst)\n",
    "    return new_str"
   ]
  },
  {
   "cell_type": "code",
   "execution_count": 60,
   "id": "c8b82feb",
   "metadata": {},
   "outputs": [
    {
     "name": "stdout",
     "output_type": "stream",
     "text": [
      "['Hello', 'world']\n",
      "['world', 'Hello']\n"
     ]
    },
    {
     "data": {
      "text/plain": [
       "'world*Hello'"
      ]
     },
     "execution_count": 60,
     "metadata": {},
     "output_type": "execute_result"
    }
   ],
   "source": [
    "fun(\"Hello world\")"
   ]
  },
  {
   "cell_type": "code",
   "execution_count": 66,
   "id": "4a27e911",
   "metadata": {},
   "outputs": [
    {
     "name": "stdout",
     "output_type": "stream",
     "text": [
      "lJcQdIQw\n"
     ]
    }
   ],
   "source": [
    "import random\n",
    "\n",
    "def generate_password(length):\n",
    "    characters = \"abcdefghijklmnobqrstuvwxyzABCDEFGHIJKLMNOPQRSTUVWXYZ\"\n",
    "    password = \"\"\n",
    "\n",
    "    for _ in range(length):\n",
    "        password += random.choice(characters)\n",
    "    \n",
    "    return password\n",
    "\n",
    "password_length = 8\n",
    "random_password = generate_password(password_length)\n",
    "print(random_password)"
   ]
  },
  {
   "cell_type": "code",
   "execution_count": null,
   "id": "93c5f409",
   "metadata": {},
   "outputs": [
    {
     "data": {
      "text/plain": [
       "{'hi': 1, 'Mina': 2, 'welcome': 1, 'Ho': 1, 'mina': 1, 'No': 1}"
      ]
     },
     "execution_count": 67,
     "metadata": {},
     "output_type": "execute_result"
    }
   ],
   "source": [
    "words = [\"welcome\",\"Mina\", \"hi\",\"mina\",\"Ho\",\"Mina\",\"No\"]\n",
    "unique_words = set(words)\n",
    "counts = {word: 0 for word in unique_words} # list comprihention\n",
    "for i in unique_words:\n",
    "    for j in words:\n",
    "        if i == j:\n",
    "            counts[i] += 1\n",
    "counts"
   ]
  },
  {
   "cell_type": "code",
   "execution_count": 69,
   "id": "ee47fb60",
   "metadata": {},
   "outputs": [
    {
     "data": {
      "text/plain": [
       "{'hi': 1, 'Mina': 2, 'welcome': 1, 'Ho': 1, 'mina': 1, 'No': 1}"
      ]
     },
     "execution_count": 69,
     "metadata": {},
     "output_type": "execute_result"
    }
   ],
   "source": [
    "words = [\"welcome\",\"Mina\", \"hi\",\"mina\",\"Ho\",\"Mina\",\"No\"]\n",
    "unique_words = set(words)\n",
    "counts = {word: 0 for word in unique_words}\n",
    "for i in words:\n",
    "    for j in unique_words:\n",
    "        if i == j:\n",
    "            counts[i] += 1\n",
    "counts"
   ]
  },
  {
   "cell_type": "code",
   "execution_count": 75,
   "id": "e1d98288",
   "metadata": {},
   "outputs": [],
   "source": [
    "def unique_words_counts(x):\n",
    "    unique_words = set(x)\n",
    "    counts1 = {word: 0 for word in unique_words}\n",
    "    for i in words:\n",
    "       for j in unique_words:\n",
    "        if i == j:\n",
    "            counts1[i] += 1\n",
    "    return counts1"
   ]
  },
  {
   "cell_type": "code",
   "execution_count": 77,
   "id": "66926b3e",
   "metadata": {},
   "outputs": [
    {
     "data": {
      "text/plain": [
       "{'hi': 1, 'Mina': 2, 'welcome': 1, 'Ho': 1, 'mina': 1, 'No': 1}"
      ]
     },
     "execution_count": 77,
     "metadata": {},
     "output_type": "execute_result"
    }
   ],
   "source": [
    "unique_words_counts(words)\n"
   ]
  },
  {
   "cell_type": "code",
   "execution_count": 87,
   "id": "1d87818c",
   "metadata": {},
   "outputs": [
    {
     "name": "stdout",
     "output_type": "stream",
     "text": [
      "hi:1\n",
      "Mina:2\n",
      "welcome:1\n",
      "Ho:1\n",
      "mina:1\n",
      "No:1\n"
     ]
    }
   ],
   "source": [
    "words = [\"welcome\",\"Mina\", \"hi\",\"mina\",\"Ho\",\"Mina\",\"No\"]\n",
    "def freq(words):\n",
    "    unique_words = set(words)\n",
    "\n",
    "    for x in unique_words:\n",
    "        print(f\"{x}:{words.count(x)}\")\n",
    "\n",
    "z = freq(words)\n"
   ]
  },
  {
   "cell_type": "code",
   "execution_count": 88,
   "id": "f316db93",
   "metadata": {},
   "outputs": [
    {
     "name": "stdout",
     "output_type": "stream",
     "text": [
      "hi:1\n",
      "Mina:2\n",
      "welcome:1\n",
      "Ho:1\n",
      "mina:1\n",
      "No:1\n",
      "['hi:1', 'Mina:2', 'welcome:1', 'Ho:1', 'mina:1', 'No:1']\n"
     ]
    }
   ],
   "source": [
    "def count_word2(words):\n",
    "    unique_words = set(words)\n",
    "    new_list = []\n",
    "    for word in unique_words:\n",
    "        print(f\"{word}:{words.count(word)}\")\n",
    "        counter_w = f\"{word}:{words.count(word)}\"\n",
    "        new_list.append(counter_w)\n",
    "    print(new_list)\n",
    "\n",
    "count_word2(words)"
   ]
  },
  {
   "cell_type": "code",
   "execution_count": null,
   "id": "e5359047",
   "metadata": {},
   "outputs": [],
   "source": []
  }
 ],
 "metadata": {
  "kernelspec": {
   "display_name": "Python 3",
   "language": "python",
   "name": "python3"
  },
  "language_info": {
   "codemirror_mode": {
    "name": "ipython",
    "version": 3
   },
   "file_extension": ".py",
   "mimetype": "text/x-python",
   "name": "python",
   "nbconvert_exporter": "python",
   "pygments_lexer": "ipython3",
   "version": "3.13.3"
  }
 },
 "nbformat": 4,
 "nbformat_minor": 5
}
