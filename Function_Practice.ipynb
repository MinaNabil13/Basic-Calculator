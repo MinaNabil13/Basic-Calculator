{
 "cells": [
  {
   "cell_type": "markdown",
   "id": "99b4662d",
   "metadata": {},
   "source": [
    "### 1. Write a function that inputs a number and prints the multiplication table of that number\n"
   ]
  },
  {
   "cell_type": "code",
   "execution_count": 1,
   "id": "6b85ff9d",
   "metadata": {},
   "outputs": [],
   "source": [
    "def num_mul(x: int):\n",
    "    for i in range(10):\n",
    "        result = x * i\n",
    "        print(f\"{x} * {i} = {result}\")\n"
   ]
  },
  {
   "cell_type": "code",
   "execution_count": 3,
   "id": "dccf8a3e",
   "metadata": {},
   "outputs": [
    {
     "name": "stdout",
     "output_type": "stream",
     "text": [
      "2 * 0 = 0\n",
      "2 * 1 = 2\n",
      "2 * 2 = 4\n",
      "2 * 3 = 6\n",
      "2 * 4 = 8\n",
      "2 * 5 = 10\n",
      "2 * 6 = 12\n",
      "2 * 7 = 14\n",
      "2 * 8 = 16\n",
      "2 * 9 = 18\n"
     ]
    }
   ],
   "source": [
    "num_mul(2)"
   ]
  },
  {
   "cell_type": "markdown",
   "id": "236c3a4a",
   "metadata": {},
   "source": [
    "#### 2. Write a program to print twin primes less than 1000. If two consecutive odd numbers are both prime then they are known as twin primes \n",
    "\n",
    "\n"
   ]
  },
  {
   "cell_type": "code",
   "execution_count": 12,
   "id": "50d2dafd",
   "metadata": {},
   "outputs": [],
   "source": [
    "def twin_prime(x: int):\n",
    "    print(\"Twin Prime :\")\n",
    "    for i in range(x):\n",
    "        if i % 2 != 0:\n",
    "            next_num = i + 2\n",
    "            print(f\"{i} and {next_num}\")\n",
    "            \n",
    "\n",
    "        \n"
   ]
  },
  {
   "cell_type": "code",
   "execution_count": 11,
   "id": "b6ab675a",
   "metadata": {},
   "outputs": [
    {
     "name": "stdout",
     "output_type": "stream",
     "text": [
      "Twin Prime\n",
      "1 and 3\n",
      "3 and 5\n",
      "5 and 7\n",
      "7 and 9\n",
      "9 and 11\n",
      "11 and 13\n",
      "13 and 15\n",
      "15 and 17\n",
      "17 and 19\n",
      "19 and 21\n",
      "21 and 23\n",
      "23 and 25\n",
      "25 and 27\n",
      "27 and 29\n",
      "29 and 31\n",
      "31 and 33\n",
      "33 and 35\n",
      "35 and 37\n",
      "37 and 39\n",
      "39 and 41\n",
      "41 and 43\n",
      "43 and 45\n",
      "45 and 47\n",
      "47 and 49\n",
      "49 and 51\n"
     ]
    }
   ],
   "source": [
    "twin_prime(50)"
   ]
  },
  {
   "cell_type": "markdown",
   "id": "83f3b4dd",
   "metadata": {},
   "source": [
    "#### 3. Write a program to find out the prime factors of a number.\n",
    "#### Example: prime factors of 56 - 2, 2, 2, 7 \n"
   ]
  },
  {
   "cell_type": "code",
   "execution_count": 1,
   "id": "b6637cfd",
   "metadata": {},
   "outputs": [],
   "source": [
    "def prime_factor(x: int):\n",
    "    my_list = []\n",
    "    while x > 1:\n",
    "        result = x / 2\n",
    "        if x % 2 == 0:\n",
    "            my_list.append(2)\n",
    "            x /= 2\n",
    "        elif x % 3 == 0:\n",
    "            my_list.append(3)\n",
    "            x /= 3\n",
    "        elif x % 5 == 0:\n",
    "            my_list.append(5)\n",
    "            x /= 5\n",
    "        elif x % 7 == 0:\n",
    "            my_list.append(7)\n",
    "            x /= 7\n",
    "        elif x % 9 == 0:\n",
    "            my_list.append(9)\n",
    "            x /= 9\n",
    "        elif x % 11 == 0:\n",
    "            my_list.append(11)\n",
    "            x /= 11\n",
    "        elif x % 13 == 0:\n",
    "            my_list.append(13)\n",
    "            x /= 13\n",
    "        else: \n",
    "            return my_list\n",
    "\n",
    "    return my_list\n",
    "        \n",
    "\n"
   ]
  },
  {
   "cell_type": "code",
   "execution_count": 8,
   "id": "9f5690ec",
   "metadata": {},
   "outputs": [
    {
     "data": {
      "text/plain": [
       "[2, 2, 2, 7]"
      ]
     },
     "execution_count": 8,
     "metadata": {},
     "output_type": "execute_result"
    }
   ],
   "source": [
    "prime_factor(56)"
   ]
  },
  {
   "cell_type": "markdown",
   "id": "053f94f5",
   "metadata": {},
   "source": [
    "#### 4. Write a function that converts a decimal number to binary number"
   ]
  },
  {
   "cell_type": "code",
   "execution_count": 15,
   "id": "ce6a1e6d",
   "metadata": {},
   "outputs": [],
   "source": [
    "def decToBin(n: int):\n",
    "    binary = \"\"\n",
    "    while n > 0:\n",
    "        remainder = n % 2\n",
    "        binary = str(remainder) + binary\n",
    "        n = n // 2\n",
    "    return binary or \"0\""
   ]
  },
  {
   "cell_type": "code",
   "execution_count": 17,
   "id": "0c78705b",
   "metadata": {},
   "outputs": [
    {
     "data": {
      "text/plain": [
       "'1101'"
      ]
     },
     "execution_count": 17,
     "metadata": {},
     "output_type": "execute_result"
    }
   ],
   "source": [
    "decToBin(13)"
   ]
  },
  {
   "cell_type": "code",
   "execution_count": null,
   "id": "2427e821",
   "metadata": {},
   "outputs": [],
   "source": []
  }
 ],
 "metadata": {
  "kernelspec": {
   "display_name": "Python 3",
   "language": "python",
   "name": "python3"
  },
  "language_info": {
   "codemirror_mode": {
    "name": "ipython",
    "version": 3
   },
   "file_extension": ".py",
   "mimetype": "text/x-python",
   "name": "python",
   "nbconvert_exporter": "python",
   "pygments_lexer": "ipython3",
   "version": "3.13.3"
  }
 },
 "nbformat": 4,
 "nbformat_minor": 5
}
